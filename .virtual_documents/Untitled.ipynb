# Sanity check before saving
print("Submission preview:")
print(submission.head())

print("\nSubmission shape:", submission.shape)
print("Any NaNs?", submission['Listening_Time_minutes'].isna().sum())
print("All test IDs matched?", all(submission['id'] == test['id']))
print("Any infinities?", np.isinf(submission['Listening_Time_minutes']).sum())

# Save (final correct version)
submission.to_csv('ensemble_submission.csv', index=False)




